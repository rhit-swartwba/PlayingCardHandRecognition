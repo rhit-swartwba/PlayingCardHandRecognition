{
 "cells": [
  {
   "cell_type": "code",
   "execution_count": 1,
   "id": "1ad831d0-4627-4c77-81a7-c66eb285ca77",
   "metadata": {},
   "outputs": [
    {
     "ename": "ModuleNotFoundError",
     "evalue": "No module named 'ultralytics'",
     "output_type": "error",
     "traceback": [
      "\u001b[1;31m---------------------------------------------------------------------------\u001b[0m",
      "\u001b[1;31mModuleNotFoundError\u001b[0m                       Traceback (most recent call last)",
      "Cell \u001b[1;32mIn[1], line 1\u001b[0m\n\u001b[1;32m----> 1\u001b[0m \u001b[38;5;28;01mfrom\u001b[39;00m \u001b[38;5;21;01multralytics\u001b[39;00m \u001b[38;5;28;01mimport\u001b[39;00m YOLO\n",
      "\u001b[1;31mModuleNotFoundError\u001b[0m: No module named 'ultralytics'"
     ]
    }
   ],
   "source": [
    "from ultralytics import YOLO"
   ]
  },
  {
   "cell_type": "code",
   "execution_count": null,
   "id": "a8114009-a056-46d3-adbc-a5ff2791a72a",
   "metadata": {},
   "outputs": [],
   "source": [
    "model = YOLO(\"yolov8n.pt\") \n",
    "card_model = model.train(data=\"data.yaml\", \n",
    "                          epochs=50,\n",
    "                          batch=-1, \n",
    "                          device=\"cuda\",\n",
    "                          optimizer = 'auto', \n",
    "                          plots=True, \n",
    "                          verbose=True,\n",
    "                          project='./card_model',\n",
    "                          name='card_model'\n",
    "                         )\n",
    "print(\"Training complete!\")"
   ]
  },
  {
   "cell_type": "code",
   "execution_count": null,
   "id": "92a953e6-38f1-4852-b030-7c0324e86113",
   "metadata": {},
   "outputs": [],
   "source": [
    "metrics = model.val(split=\"val\", name=\"validation_metrics\")\n",
    "print(f\"Precision: {metrics.results_dict['metrics/precision(B)']:.4f}\")\n",
    "print(f\"Recall: {metrics.results_dict['metrics/recall(B)']:.4f}\")\n",
    "print(f\"mAP@50: {metrics.results_dict['metrics/mAP50(B)']:.4f}\")\n",
    "print(f\"mAP@50-95: {metrics.results_dict['metrics/mAP50-95(B)']:.4f}\")"
   ]
  },
  {
   "cell_type": "code",
   "execution_count": null,
   "id": "4d64080e-00a2-49c2-8914-4afb47e3520d",
   "metadata": {},
   "outputs": [],
   "source": [
    "metrics = model.val(split=\"test\", name=\"test_metrics\")\n",
    "print(f\"Precision: {metrics.results_dict['metrics/precision(B)']:.4f}\")\n",
    "print(f\"Recall: {metrics.results_dict['metrics/recall(B)']:.4f}\")\n",
    "print(f\"mAP@50: {metrics.results_dict['metrics/mAP50(B)']:.4f}\")\n",
    "print(f\"mAP@50-95: {metrics.results_dict['metrics/mAP50-95(B)']:.4f}\")"
   ]
  },
  {
   "cell_type": "code",
   "execution_count": null,
   "id": "eb0c934b-a5b4-41e0-8419-9e524cdc3d71",
   "metadata": {},
   "outputs": [],
   "source": [
    "model.predict(source=\"datasets/test/images\", save=True, conf=0.1, name=\"test_predictions\")"
   ]
  }
 ],
 "metadata": {
  "kernelspec": {
   "display_name": "Python 3 (ipykernel)",
   "language": "python",
   "name": "python3"
  },
  "language_info": {
   "codemirror_mode": {
    "name": "ipython",
    "version": 3
   },
   "file_extension": ".py",
   "mimetype": "text/x-python",
   "name": "python",
   "nbconvert_exporter": "python",
   "pygments_lexer": "ipython3",
   "version": "3.12.7"
  }
 },
 "nbformat": 4,
 "nbformat_minor": 5
}
