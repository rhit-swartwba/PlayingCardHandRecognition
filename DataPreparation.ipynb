{
 "cells": [
  {
   "cell_type": "code",
   "execution_count": 1,
   "id": "61b620ca-f1d9-4e28-ac5e-b16e223e5093",
   "metadata": {},
   "outputs": [],
   "source": [
    "import os\n",
    "import random\n",
    "import shutil\n",
    "from pathlib import Path"
   ]
  },
  {
   "cell_type": "code",
   "execution_count": 2,
   "id": "89ad9ddf-5a64-4360-8430-939e9209ccf4",
   "metadata": {},
   "outputs": [],
   "source": [
    "dataset_path = \"../Results\"\n",
    "image_ext = \".png\"\n",
    "label_ext = \".txt\""
   ]
  },
  {
   "cell_type": "code",
   "execution_count": 3,
   "id": "888b1e19-51ba-4135-b937-940580a03e24",
   "metadata": {},
   "outputs": [],
   "source": [
    "train_ratio = 0.7\n",
    "val_ratio = 0.2\n",
    "test_ratio = 0.1"
   ]
  },
  {
   "cell_type": "code",
   "execution_count": 4,
   "id": "6ec0b43c-e0f2-4df5-b4d2-0763f1244086",
   "metadata": {},
   "outputs": [],
   "source": [
    "output_dir = \"./datasets\"\n",
    "train_img_dir = f\"{output_dir}/train/images\"\n",
    "train_lbl_dir = f\"{output_dir}/train/labels\"\n",
    "val_img_dir = f\"{output_dir}/val/images\"\n",
    "val_lbl_dir = f\"{output_dir}/val/labels\"\n",
    "test_img_dir = f\"{output_dir}/test/images\"\n",
    "test_lbl_dir = f\"{output_dir}/test/labels\""
   ]
  },
  {
   "cell_type": "code",
   "execution_count": 5,
   "id": "77b35bda-2cd9-47f5-982c-699209f09b65",
   "metadata": {},
   "outputs": [
    {
     "name": "stdout",
     "output_type": "stream",
     "text": [
      "Dataset split complete! Train: 672, Val: 192, Test: 96\n"
     ]
    }
   ],
   "source": [
    "for d in [train_img_dir, train_lbl_dir, val_img_dir, val_lbl_dir, test_img_dir, test_lbl_dir]:\n",
    "    os.makedirs(d, exist_ok=True)\n",
    "\n",
    "# Get all image files\n",
    "all_images = [f for f in os.listdir(dataset_path) if f.endswith(image_ext)]\n",
    "random.shuffle(all_images)\n",
    "\n",
    "# Split dataset\n",
    "total_count = len(all_images)\n",
    "train_count = int(total_count * train_ratio)\n",
    "val_count = int(total_count * val_ratio)\n",
    "\n",
    "train_files = all_images[:train_count]\n",
    "val_files = all_images[train_count:train_count + val_count]\n",
    "test_files = all_images[train_count + val_count:]\n",
    "\n",
    "def move_files(file_list, img_dest, lbl_dest):\n",
    "    \"\"\"Move images and corresponding labels to new directories.\"\"\"\n",
    "    for img_file in file_list:\n",
    "        base_name = Path(img_file).stem  # Get filename without extension\n",
    "        lbl_file = base_name + label_ext  # Label file name\n",
    "\n",
    "        shutil.copy(os.path.join(dataset_path, img_file), os.path.join(img_dest, img_file))\n",
    "        shutil.copy(os.path.join(dataset_path, lbl_file), os.path.join(lbl_dest, lbl_file))\n",
    "\n",
    "# Move files\n",
    "move_files(train_files, train_img_dir, train_lbl_dir)\n",
    "move_files(val_files, val_img_dir, val_lbl_dir)\n",
    "move_files(test_files, test_img_dir, test_lbl_dir)\n",
    "\n",
    "print(f\"Dataset split complete! Train: {train_count}, Val: {val_count}, Test: {total_count - train_count - val_count}\")"
   ]
  },
  {
   "cell_type": "code",
   "execution_count": 6,
   "id": "9283661d-8c16-4f1c-bc83-db2baf2da659",
   "metadata": {},
   "outputs": [
    {
     "name": "stdout",
     "output_type": "stream",
     "text": [
      "Data configuration file created.\n"
     ]
    }
   ],
   "source": [
    "data_yaml = f\"\"\"path: \n",
    "train: train/images\n",
    "val: val/images\n",
    "test: test/images\n",
    "\n",
    "nc: 52 \n",
    "names: [ \"2C\", \"3C\", \"4C\", \"5C\", \"6C\", \"7C\", \"8C\", \"9C\", \"10C\", \"JC\", \"QC\", \"KC\", \"AC\",\n",
    "         \"2D\", \"3D\", \"4D\", \"5D\", \"6D\", \"7D\", \"8D\", \"9D\", \"10D\", \"JD\", \"QD\", \"KD\", \"AD\",\n",
    "         \"2H\", \"3H\", \"4H\", \"5H\", \"6H\", \"7H\", \"8H\", \"9H\", \"10H\", \"JH\", \"QH\", \"KH\", \"AH\",\n",
    "         \"2S\", \"3S\", \"4S\", \"5S\", \"6S\", \"7S\", \"8S\", \"9S\", \"10S\", \"JS\", \"QS\", \"KS\", \"AS\" ]\n",
    "\"\"\"\n",
    "\n",
    "with open(\"data.yaml\", \"w\") as f:\n",
    "    f.write(data_yaml)\n",
    "\n",
    "print(\"Data configuration file created.\")"
   ]
  },
  {
   "cell_type": "code",
   "execution_count": null,
   "id": "32ea4dac-309a-4e16-ad2e-02f83a9c3127",
   "metadata": {},
   "outputs": [],
   "source": []
  }
 ],
 "metadata": {
  "kernelspec": {
   "display_name": "’’csse463’’",
   "language": "python",
   "name": "csse463"
  },
  "language_info": {
   "codemirror_mode": {
    "name": "ipython",
    "version": 3
   },
   "file_extension": ".py",
   "mimetype": "text/x-python",
   "name": "python",
   "nbconvert_exporter": "python",
   "pygments_lexer": "ipython3",
   "version": "3.13.1"
  }
 },
 "nbformat": 4,
 "nbformat_minor": 5
}
