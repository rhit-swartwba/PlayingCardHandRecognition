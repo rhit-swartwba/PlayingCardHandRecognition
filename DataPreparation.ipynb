{
 "cells": [
  {
   "cell_type": "code",
   "execution_count": 1,
   "id": "87fe3303-4990-452d-8241-c4f0c3f89df5",
   "metadata": {},
   "outputs": [],
   "source": [
    "import os\n",
    "import random\n",
    "import shutil\n",
    "from pathlib import Path"
   ]
  },
  {
   "cell_type": "code",
   "execution_count": 2,
   "id": "477ffa94-f39d-44b3-a6e9-4453129ddace",
   "metadata": {},
   "outputs": [],
   "source": [
    "dataset_path = \"./Results\"\n",
    "image_ext = \".png\"\n",
    "label_ext = \".txt\""
   ]
  },
  {
   "cell_type": "code",
   "execution_count": 3,
   "id": "1b72be91-e155-4863-bbe0-368adee70617",
   "metadata": {},
   "outputs": [],
   "source": [
    "train_ratio = 0.7\n",
    "val_ratio = 0.2\n",
    "test_ratio = 0.1"
   ]
  },
  {
   "cell_type": "code",
   "execution_count": 4,
   "id": "08a4113d-b92b-4b84-8e89-514eb5dccf2d",
   "metadata": {},
   "outputs": [],
   "source": [
    "output_dir = \"./datasets\"\n",
    "train_img_dir = f\"{output_dir}/train/images\"\n",
    "train_lbl_dir = f\"{output_dir}/train/labels\"\n",
    "val_img_dir = f\"{output_dir}/val/images\"\n",
    "val_lbl_dir = f\"{output_dir}/val/labels\"\n",
    "test_img_dir = f\"{output_dir}/test/images\"\n",
    "test_lbl_dir = f\"{output_dir}/test/labels\""
   ]
  },
  {
   "cell_type": "code",
   "execution_count": 5,
   "id": "08d94793-219b-47b6-a0fb-8d4d5f39c60b",
   "metadata": {},
   "outputs": [
    {
     "name": "stdout",
     "output_type": "stream",
     "text": [
      "Dataset split complete! Train: 3622, Val: 1035, Test: 518\n"
     ]
    }
   ],
   "source": [
    "for d in [train_img_dir, train_lbl_dir, val_img_dir, val_lbl_dir, test_img_dir, test_lbl_dir]:\n",
    "    os.makedirs(d, exist_ok=True)\n",
    "\n",
    "# Get all image files\n",
    "all_images = [f for f in os.listdir(dataset_path) if f.endswith(image_ext)]\n",
    "random.shuffle(all_images)\n",
    "\n",
    "# Split dataset\n",
    "total_count = len(all_images)\n",
    "train_count = int(total_count * train_ratio)\n",
    "val_count = int(total_count * val_ratio)\n",
    "\n",
    "train_files = all_images[:train_count]\n",
    "val_files = all_images[train_count:train_count + val_count]\n",
    "test_files = all_images[train_count + val_count:]\n",
    "\n",
    "def move_files(file_list, img_dest, lbl_dest):\n",
    "    \"\"\"Move images and corresponding labels to new directories.\"\"\"\n",
    "    for img_file in file_list:\n",
    "        base_name = Path(img_file).stem  # Get filename without extension\n",
    "        lbl_file = base_name + label_ext  # Label file name\n",
    "\n",
    "        shutil.copy(os.path.join(dataset_path, img_file), os.path.join(img_dest, img_file))\n",
    "        shutil.copy(os.path.join(dataset_path, lbl_file), os.path.join(lbl_dest, lbl_file))\n",
    "\n",
    "# Move files\n",
    "move_files(train_files, train_img_dir, train_lbl_dir)\n",
    "move_files(val_files, val_img_dir, val_lbl_dir)\n",
    "move_files(test_files, test_img_dir, test_lbl_dir)\n",
    "\n",
    "print(f\"Dataset split complete! Train: {train_count}, Val: {val_count}, Test: {total_count - train_count - val_count}\")"
   ]
  },
  {
   "cell_type": "code",
   "execution_count": 6,
   "id": "5ade04a0-b0ff-402d-9bf3-54a1e31351a9",
   "metadata": {},
   "outputs": [
    {
     "name": "stdout",
     "output_type": "stream",
     "text": [
      "Data configuration file created.\n"
     ]
    }
   ],
   "source": [
    "data_yaml = f\"\"\"path: \n",
    "train: train/images\n",
    "val: val/images\n",
    "test: test/images\n",
    "\n",
    "nc: 53 \n",
    "names: [ \"2C\", \"3C\", \"4C\", \"5C\", \"6C\", \"7C\", \"8C\", \"9C\", \"10C\", \"JC\", \"QC\", \"KC\", \"AC\",\n",
    "         \"2D\", \"3D\", \"4D\", \"5D\", \"6D\", \"7D\", \"8D\", \"9D\", \"10D\", \"JD\", \"QD\", \"KD\", \"AD\",\n",
    "         \"2H\", \"3H\", \"4H\", \"5H\", \"6H\", \"7H\", \"8H\", \"9H\", \"10H\", \"JH\", \"QH\", \"KH\", \"AH\",\n",
    "         \"2S\", \"3S\", \"4S\", \"5S\", \"6S\", \"7S\", \"8S\", \"9S\", \"10S\", \"JS\", \"QS\", \"KS\", \"AS\",\n",
    "         \"R\"]\n",
    "\"\"\"\n",
    "\n",
    "with open(\"data.yaml\", \"w\") as f:\n",
    "    f.write(data_yaml)\n",
    "\n",
    "print(\"Data configuration file created.\")"
   ]
  }
 ],
 "metadata": {
  "kernelspec": {
   "display_name": "Python 3 (ipykernel)",
   "language": "python",
   "name": "python3"
  },
  "language_info": {
   "codemirror_mode": {
    "name": "ipython",
    "version": 3
   },
   "file_extension": ".py",
   "mimetype": "text/x-python",
   "name": "python",
   "nbconvert_exporter": "python",
   "pygments_lexer": "ipython3",
   "version": "3.12.7"
  }
 },
 "nbformat": 4,
 "nbformat_minor": 5
}
