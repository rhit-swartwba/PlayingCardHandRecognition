{
 "cells": [
  {
   "cell_type": "code",
   "execution_count": null,
   "id": "a1c1a271-ed4f-4399-9335-c08f5b2070ca",
   "metadata": {},
   "outputs": [],
   "source": [
    "import os\n",
    "import shutil\n",
    "import random"
   ]
  },
  {
   "cell_type": "code",
   "execution_count": null,
   "id": "65ec8e6b-dcda-4d2e-9912-99e8a5f21e46",
   "metadata": {},
   "outputs": [],
   "source": [
    "source_dir = './datasets/gen_images/'  # Input directory where the images and .txt files are\n",
    "output_dir = './datasets/yolo_gen_images/'     # Output directory for the YOLO dataset structure\n",
    "\n",
    "train_img_dir = os.path.join(output_dir, 'images', 'train')\n",
    "val_img_dir = os.path.join(output_dir, 'images', 'val')\n",
    "test_img_dir = os.path.join(output_dir, 'images', 'test')\n",
    "train_label_dir = os.path.join(output_dir, 'labels', 'train')\n",
    "val_label_dir = os.path.join(output_dir, 'labels', 'val')\n",
    "test_label_dir = os.path.join(output_dir, 'labels', 'test')"
   ]
  },
  {
   "cell_type": "code",
   "execution_count": null,
   "id": "3b94aef1-3127-4415-86e7-a6ac8b751c73",
   "metadata": {},
   "outputs": [],
   "source": [
    "for directory in [train_img_dir, val_img_dir, test_img_dir, train_label_dir, val_label_dir, test_label_dir]:\n",
    "    os.makedirs(directory, exist_ok=True)\n",
    "\n",
    "jpg_files = [f for f in os.listdir(source_dir) if f.endswith('.png')]\n",
    "txt_files = [f.replace('.png', '.txt') for f in jpg_files]  \n",
    "print(jpg_files, txt_files)\n",
    "\n",
    "random.shuffle(jpg_files)\n",
    "\n",
    "# Split ratio (70% train, 20% val, 10% test)\n",
    "train_split = 0.7\n",
    "val_split = 0.2\n",
    "test_split = 0.1\n",
    "\n",
    "train_size = int(len(jpg_files) * train_split)\n",
    "val_size = int(len(jpg_files) * val_split)\n",
    "test_size = len(jpg_files) - train_size - val_size  \n",
    "\n",
    "\n",
    "def move_files(files, img_dir, label_dir):\n",
    "    for file in files:\n",
    "\n",
    "        img_path = os.path.join(source_dir, file)\n",
    "        shutil.move(img_path, img_dir)\n",
    "        \n",
    "        label_file = file.replace('.png', '.txt')\n",
    "        label_path = os.path.join(source_dir, label_file)\n",
    "        shutil.move(label_path, label_dir)\n",
    "\n",
    "train_files = jpg_files[:train_size]\n",
    "val_files = jpg_files[train_size:train_size+val_size]\n",
    "test_files = jpg_files[train_size+val_size:]\n",
    "\n",
    "move_files(train_files, train_img_dir, train_label_dir)\n",
    "move_files(val_files, val_img_dir, val_label_dir)\n",
    "move_files(test_files, test_img_dir, test_label_dir)\n",
    "\n",
    "print(f\"Successfully organized {len(train_files)} images and labels into training set.\")\n",
    "print(f\"Successfully organized {len(val_files)} images and labels into validation set.\")\n",
    "print(f\"Successfully organized {len(test_files)} images and labels into test set.\")"
   ]
  }
 ],
 "metadata": {
  "kernelspec": {
   "display_name": "Python 3 (ipykernel)",
   "language": "python",
   "name": "python3"
  },
  "language_info": {
   "codemirror_mode": {
    "name": "ipython",
    "version": 3
   },
   "file_extension": ".py",
   "mimetype": "text/x-python",
   "name": "python",
   "nbconvert_exporter": "python",
   "pygments_lexer": "ipython3",
   "version": "3.12.8"
  }
 },
 "nbformat": 4,
 "nbformat_minor": 5
}
